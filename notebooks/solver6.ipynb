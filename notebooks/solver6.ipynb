{
 "cells": [
  {
   "cell_type": "code",
   "execution_count": 37,
   "id": "0e598987",
   "metadata": {},
   "outputs": [],
   "source": [
    "from typing import List, Dict\n",
    "\n",
    "\n",
    "def calculate_production_plan(load: float, fuels: Dict[str, float], powerplants: List[Dict[str, any]]) -> Dict[str, float]:\n",
    "    # Sort powerplants based on cost and efficiency\n",
    "    sorted_powerplants = sorted(powerplants, key=lambda p: (p['type'] != 'windturbine', p['efficiency'], p['pmin'], -p['pmax']))\n",
    "    print(json.dumps(sorted_powerplants, sort_keys=True, indent=4))\n",
    "\n",
    "    # Initialize variables\n",
    "    remaining_load = load\n",
    "    production_plan = {}\n",
    "\n",
    "    # Iterate over powerplants and allocate power based on merit-order\n",
    "    for powerplant in sorted_powerplants:\n",
    "        pmax = powerplant['pmax']\n",
    "        pmin = powerplant['pmin']\n",
    "        print(powerplant[\"type\"])\n",
    "\n",
    "        # Calculate the maximum power that can be allocated for the powerplant\n",
    "        max_power = min(remaining_load, pmax)\n",
    "\n",
    "        # Calculate the power to be allocated while considering pmin\n",
    "        allocated_power = max(max_power, pmin)\n",
    "\n",
    "        # Update the remaining load and power production plan\n",
    "        remaining_load -= allocated_power\n",
    "        production_plan[powerplant['name']] = allocated_power\n",
    "\n",
    "        # Break the loop if the remaining load is zero\n",
    "        if remaining_load <= 0:\n",
    "            break\n",
    "\n",
    "    # If there is still a remaining load, allocate it to wind turbines\n",
    "    if remaining_load > 0:\n",
    "        wind_percentage = fuels.get('wind', 0) / 100\n",
    "        wind_power = remaining_load / wind_percentage if wind_percentage > 0 else 0\n",
    "        production_plan['wind'] = wind_power\n",
    "\n",
    "    return production_plan\n",
    "\n",
    "\n",
    "# Maintenant il faut fait un backward à cause  de l'exemple payload 6"
   ]
  },
  {
   "cell_type": "code",
   "execution_count": 38,
   "id": "55c7da2e",
   "metadata": {},
   "outputs": [
    {
     "name": "stdout",
     "output_type": "stream",
     "text": [
      "[\n",
      "    {\n",
      "        \"efficiency\": 1,\n",
      "        \"name\": \"windpark2\",\n",
      "        \"pmax\": 150,\n",
      "        \"pmin\": 0,\n",
      "        \"type\": \"windturbine\"\n",
      "    },\n",
      "    {\n",
      "        \"efficiency\": 1,\n",
      "        \"name\": \"tj1\",\n",
      "        \"pmax\": 460,\n",
      "        \"pmin\": 100,\n",
      "        \"type\": \"turbojet\"\n",
      "    },\n",
      "    {\n",
      "        \"efficiency\": 1,\n",
      "        \"name\": \"gasfiredbig2\",\n",
      "        \"pmax\": 460,\n",
      "        \"pmin\": 100,\n",
      "        \"type\": \"gasfired\"\n",
      "    }\n",
      "]\n",
      "windturbine\n",
      "turbojet\n",
      "{\n",
      "    \"tj1\": 150,\n",
      "    \"windpark2\": 150\n",
      "}\n"
     ]
    }
   ],
   "source": [
    "import json\n",
    "with open('../tests/payloads/payload11.json', 'r') as f:\n",
    "    data = json.load(f)\n",
    "    #print(get_checks(data))\n",
    "    load = data['load']\n",
    "    fuels = data['fuels']\n",
    "    powerplants = data['powerplants']\n",
    "    print(json.dumps(calculate_production_plan(load, fuels, powerplants), sort_keys=True, indent=4))\n"
   ]
  },
  {
   "cell_type": "code",
   "execution_count": null,
   "id": "3bfe565b",
   "metadata": {},
   "outputs": [],
   "source": []
  }
 ],
 "metadata": {
  "kernelspec": {
   "display_name": "Python 3 (ipykernel)",
   "language": "python",
   "name": "python3"
  },
  "language_info": {
   "codemirror_mode": {
    "name": "ipython",
    "version": 3
   },
   "file_extension": ".py",
   "mimetype": "text/x-python",
   "name": "python",
   "nbconvert_exporter": "python",
   "pygments_lexer": "ipython3",
   "version": "3.10.9"
  }
 },
 "nbformat": 4,
 "nbformat_minor": 5
}
