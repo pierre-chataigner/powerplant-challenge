{
 "cells": [
  {
   "cell_type": "code",
   "execution_count": 122,
   "metadata": {},
   "outputs": [],
   "source": [
    "import numpy as np\n",
    "from scipy import optimize"
   ]
  },
  {
   "cell_type": "code",
   "execution_count": 199,
   "metadata": {},
   "outputs": [
    {
     "name": "stdout",
     "output_type": "stream",
     "text": [
      "     con: array([], dtype=float64)\n",
      "     fun: 2.426608723668483e-09\n",
      " message: 'Optimization terminated successfully.'\n",
      "     nit: 5\n",
      "   slack: array([2.00000000e+01, 1.00000000e+01, 4.24974919e-11, 5.00000000e+00,\n",
      "       3.77167660e-12])\n",
      "  status: 0\n",
      " success: True\n",
      "       x: array([4.24974919e-11, 3.77167660e-12])\n"
     ]
    },
    {
     "data": {
      "text/plain": [
       "2.426608723668483e-09"
      ]
     },
     "execution_count": 199,
     "metadata": {},
     "output_type": "execute_result"
    }
   ],
   "source": [
    "# Objective Function: 50x_1 + 80x_2\n",
    "# Constraint 1: 5x_1 + 2x_2 <= 20\n",
    "# Constraint 2: -10x_1 + -12x_2 <= -90\n",
    "\n",
    "result = optimize.linprog(\n",
    "    c = [50, 80],  # Cost function: 50x_1 + 80x_2\n",
    "    A_ub = [[5, 2], \n",
    "          [1, 0],\n",
    "          [-1, 0],\n",
    "          [0, 1],\n",
    "          [0, -1],\n",
    "         ],  # Coefficients for inequalities\n",
    "    b_ub = [20, \n",
    "          10,\n",
    "          0,\n",
    "          5,\n",
    "          0\n",
    "         ],  # Constraints for inequalities: 20 and -90\n",
    "    bounds=(0, None), # Bounds on x, 0 <= x_i <= +oo by default\n",
    ")\n",
    "\n",
    "print(result)\n",
    "50*result.x[0] + 80*result.x[1]"
   ]
  },
  {
   "cell_type": "code",
   "execution_count": 200,
   "metadata": {},
   "outputs": [
    {
     "name": "stdout",
     "output_type": "stream",
     "text": [
      "{'name': 'windpark1', 'type': 'windturbine', 'efficiency': 1, 'pmin': 0, 'pmax': 3000}\n",
      "{'name': 'gasfiredbig1', 'type': 'gasfired', 'efficiency': 0.53, 'pmin': 100, 'pmax': 460}\n"
     ]
    }
   ],
   "source": [
    "#TODO faire tous les cas (si il n'y a pas de windturbine ou pas de kerosine plant\n",
    "import json\n",
    "\n",
    "with open('payload4.json', 'r') as f:\n",
    "    data = json.load(f)\n",
    "\n",
    "\n",
    "load = data['load']\n",
    "\n",
    "fuels = data['fuels']\n",
    "#cost_gas = fuels['gas(euro/MWh)']\n",
    "#cost_kerosine = fuels['kerosine(euro/MWh)']\n",
    "#cost_co2 = fuels['co2(euro/ton)']\n",
    "#cost_wind = fuels['wind(%)']\n",
    "\n",
    "powerplants = data['powerplants']\n",
    "nplants = len(powerplants)\n",
    "\n",
    "c = []*nplants\n",
    "A_ub = [] # 2 \"load\" conditions and 2 boundary condition for each powerplant (pmin and pmax)\n",
    "b_ub =[]\n",
    "bounds=(0, None)\n",
    "\n",
    "\n",
    "\n",
    "#load conditions\n",
    "# (sum of p_i) <= load\n",
    "A_ub.append([1]*nplants)\n",
    "b_ub.append(load)\n",
    "\n",
    "# load <= (sum of p_i) ( -(sum of p_i) <= -load )\n",
    "A_ub.append([-1]*nplants)\n",
    "b_ub.append(-load)\n",
    "\n",
    "\n",
    "\n",
    "for i, powerplant in enumerate(powerplants):\n",
    "    print(powerplant)\n",
    "    if powerplant['type'] == 'gasfired':\n",
    "        c.append(fuels['gas(euro/MWh)']/powerplant[\"efficiency\"])\n",
    "        \n",
    "        pminConstraintA = [0]*nplants\n",
    "        pminConstraintA[i] = -1\n",
    "        pminConstraintb =  -powerplant['pmin']\n",
    "        \n",
    "        pmaxConstraintA = [0]*nplants\n",
    "        pmaxConstraintA[i] = 1\n",
    "        pmaxConstraintb =  powerplant['pmax']\n",
    "        \n",
    "        A_ub.append(pminConstraintA)\n",
    "        A_ub.append(pmaxConstraintA)\n",
    "        b_ub.append(pminConstraintb)\n",
    "        b_ub.append(pmaxConstraintb)\n",
    "\n",
    "        \n",
    "    if powerplant['type'] == 'windturbine':\n",
    "        c.append(0) #wind is free.\n",
    "        \n",
    "        pminConstraintA = [0]*nplants\n",
    "        pminConstraintA[i] = -1\n",
    "        pminConstraintb =  -powerplant['pmin']*fuels['wind(%)']/100 \n",
    "        \n",
    "        pmaxConstraintA = [0]*nplants\n",
    "        pmaxConstraintA[i] = 1\n",
    "        pmaxConstraintb =  powerplant['pmax']*fuels['wind(%)']/100\n",
    "        \n",
    "        A_ub.append(pminConstraintA)\n",
    "        A_ub.append(pmaxConstraintA)\n",
    "        b_ub.append(pminConstraintb)\n",
    "        b_ub.append(pmaxConstraintb)\n",
    "        #ne pas oublier de mettre faire rentrer le vent dans les boundaries\n",
    "        \n",
    "    if powerplant['type'] == 'turbojet':\n",
    "        c.append(fuels['kerosine(euro/MWh)']/powerplant[\"efficiency\"])\n",
    "        \n",
    "        pminConstraintA = [0]*nplants\n",
    "        pminConstraintA[i] = -1\n",
    "        pminConstraintb =  -powerplant['pmin']\n",
    "        \n",
    "        pmaxConstraintA = [0]*nplants\n",
    "        pmaxConstraintA[i] = 1\n",
    "        pmaxConstraintb =  powerplant['pmax']\n",
    "        \n",
    "        A_ub.append(pminConstraintA)\n",
    "        A_ub.append(pmaxConstraintA)\n",
    "        b_ub.append(pminConstraintb)\n",
    "        b_ub.append(pmaxConstraintb)\n",
    "\n"
   ]
  },
  {
   "cell_type": "code",
   "execution_count": 201,
   "metadata": {},
   "outputs": [
    {
     "name": "stdout",
     "output_type": "stream",
     "text": [
      "[[ 1  1]\n",
      " [-1 -1]\n",
      " [-1  0]\n",
      " [ 1  0]\n",
      " [ 0 -1]\n",
      " [ 0  1]]\n",
      "[ 110. -110.    0. 1800. -100.  460.]\n",
      "[0, 25.28301886792453]\n"
     ]
    }
   ],
   "source": [
    "print(np.array(A_ub))\n",
    "print(np.array(b_ub))\n",
    "print(c)"
   ]
  },
  {
   "cell_type": "code",
   "execution_count": 202,
   "metadata": {},
   "outputs": [],
   "source": [
    "solution = optimize.linprog(c = c,\n",
    "                          A_ub = A_ub,\n",
    "                          b_ub = b_ub,\n",
    "                          bounds = bounds)['x']\n",
    "solution = np.around(solution, decimals = 1)"
   ]
  },
  {
   "cell_type": "code",
   "execution_count": 203,
   "metadata": {},
   "outputs": [
    {
     "name": "stdout",
     "output_type": "stream",
     "text": [
      "[ 10. 100.]\n",
      "[0, 25.28301886792453]\n"
     ]
    },
    {
     "data": {
      "text/plain": [
       "2528.301886792453"
      ]
     },
     "execution_count": 203,
     "metadata": {},
     "output_type": "execute_result"
    }
   ],
   "source": [
    "print(solution)\n",
    "print(c)\n",
    "np.dot(solution,c)"
   ]
  },
  {
   "cell_type": "code",
   "execution_count": 204,
   "metadata": {},
   "outputs": [],
   "source": [
    "result = []\n",
    "for i, powerplant in enumerate(powerplants):\n",
    "    result.append({'name':powerplant['name'], 'p': solution[i]})"
   ]
  },
  {
   "cell_type": "code",
   "execution_count": 205,
   "metadata": {},
   "outputs": [
    {
     "data": {
      "text/plain": [
       "[{'name': 'windpark1', 'p': 10.0}, {'name': 'gasfiredbig1', 'p': 100.0}]"
      ]
     },
     "execution_count": 205,
     "metadata": {},
     "output_type": "execute_result"
    }
   ],
   "source": [
    "result"
   ]
  },
  {
   "cell_type": "code",
   "execution_count": null,
   "metadata": {},
   "outputs": [],
   "source": []
  }
 ],
 "metadata": {
  "kernelspec": {
   "display_name": "Python 3",
   "language": "python",
   "name": "python3"
  },
  "language_info": {
   "codemirror_mode": {
    "name": "ipython",
    "version": 3
   },
   "file_extension": ".py",
   "mimetype": "text/x-python",
   "name": "python",
   "nbconvert_exporter": "python",
   "pygments_lexer": "ipython3",
   "version": "3.8.10"
  }
 },
 "nbformat": 4,
 "nbformat_minor": 4
}
